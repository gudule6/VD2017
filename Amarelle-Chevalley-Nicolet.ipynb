{
 "cells": [
  {
   "cell_type": "code",
   "execution_count": 79,
   "metadata": {
    "collapsed": true
   },
   "outputs": [],
   "source": [
    "import pandas as pd"
   ]
  },
  {
   "cell_type": "code",
   "execution_count": 97,
   "metadata": {
    "collapsed": false
   },
   "outputs": [
    {
     "data": {
      "text/plain": [
       "1657"
      ]
     },
     "execution_count": 97,
     "metadata": {},
     "output_type": "execute_result"
    }
   ],
   "source": [
    "#votes = pd.read_csv('National_ACN.csv') VERSION ALLEMANDE\n",
    "votes = pd.read_csv('fichiers_vote_national.csv')\n",
    "len(votes)"
   ]
  },
  {
   "cell_type": "code",
   "execution_count": 98,
   "metadata": {
    "collapsed": false
   },
   "outputs": [
    {
     "data": {
      "text/html": [
       "<div>\n",
       "<table border=\"1\" class=\"dataframe\">\n",
       "  <thead>\n",
       "    <tr style=\"text-align: right;\">\n",
       "      <th></th>\n",
       "      <th>Unnamed: 0</th>\n",
       "      <th>index</th>\n",
       "      <th>VoteDate</th>\n",
       "      <th>Amarelle Cesla</th>\n",
       "      <th>Chevalley Isabelle</th>\n",
       "      <th>Nicolet Jacques</th>\n",
       "    </tr>\n",
       "  </thead>\n",
       "  <tbody>\n",
       "    <tr>\n",
       "      <th>0</th>\n",
       "      <td>0</td>\n",
       "      <td>0</td>\n",
       "      <td>2015-11-30 18:17:38</td>\n",
       "      <td>Oui</td>\n",
       "      <td>Oui</td>\n",
       "      <td>Non</td>\n",
       "    </tr>\n",
       "    <tr>\n",
       "      <th>1</th>\n",
       "      <td>1</td>\n",
       "      <td>1</td>\n",
       "      <td>2015-11-30 18:38:41</td>\n",
       "      <td>Oui</td>\n",
       "      <td>Oui</td>\n",
       "      <td>Non</td>\n",
       "    </tr>\n",
       "    <tr>\n",
       "      <th>2</th>\n",
       "      <td>2</td>\n",
       "      <td>2</td>\n",
       "      <td>2015-11-30 19:05:53</td>\n",
       "      <td>Oui</td>\n",
       "      <td>Oui</td>\n",
       "      <td>Non</td>\n",
       "    </tr>\n",
       "    <tr>\n",
       "      <th>3</th>\n",
       "      <td>3</td>\n",
       "      <td>3</td>\n",
       "      <td>2015-11-30 19:07:42</td>\n",
       "      <td>Oui</td>\n",
       "      <td>Oui</td>\n",
       "      <td>Non</td>\n",
       "    </tr>\n",
       "  </tbody>\n",
       "</table>\n",
       "</div>"
      ],
      "text/plain": [
       "   Unnamed: 0  index             VoteDate Amarelle Cesla Chevalley Isabelle  \\\n",
       "0           0      0  2015-11-30 18:17:38            Oui                Oui   \n",
       "1           1      1  2015-11-30 18:38:41            Oui                Oui   \n",
       "2           2      2  2015-11-30 19:05:53            Oui                Oui   \n",
       "3           3      3  2015-11-30 19:07:42            Oui                Oui   \n",
       "\n",
       "  Nicolet Jacques  \n",
       "0             Non  \n",
       "1             Non  \n",
       "2             Non  \n",
       "3             Non  "
      ]
     },
     "execution_count": 98,
     "metadata": {},
     "output_type": "execute_result"
    }
   ],
   "source": [
    "votes[:4]"
   ]
  },
  {
   "cell_type": "code",
   "execution_count": 99,
   "metadata": {
    "collapsed": false
   },
   "outputs": [
    {
     "data": {
      "text/plain": [
       "Index(['Unnamed: 0', 'index', 'VoteDate', 'Amarelle Cesla',\n",
       "       'Chevalley Isabelle', 'Nicolet Jacques'],\n",
       "      dtype='object')"
      ]
     },
     "execution_count": 99,
     "metadata": {},
     "output_type": "execute_result"
    }
   ],
   "source": [
    "df = pd.DataFrame(votes)\n",
    "df.keys()"
   ]
  },
  {
   "cell_type": "code",
   "execution_count": 100,
   "metadata": {
    "collapsed": false
   },
   "outputs": [
    {
     "data": {
      "text/plain": [
       "1657"
      ]
     },
     "execution_count": 100,
     "metadata": {},
     "output_type": "execute_result"
    }
   ],
   "source": [
    "len(df)"
   ]
  },
  {
   "cell_type": "code",
   "execution_count": 101,
   "metadata": {
    "collapsed": false
   },
   "outputs": [
    {
     "data": {
      "text/plain": [
       "{'Abstention', \"N'a pas participer\", \"N'a pas participé\", 'Non', 'Oui'}"
      ]
     },
     "execution_count": 101,
     "metadata": {},
     "output_type": "execute_result"
    }
   ],
   "source": [
    "set(df['Amarelle Cesla'])"
   ]
  },
  {
   "cell_type": "code",
   "execution_count": 102,
   "metadata": {
    "collapsed": false
   },
   "outputs": [
    {
     "data": {
      "text/plain": [
       "{'Abstention',\n",
       " 'Excusé',\n",
       " \"N'a pas participer\",\n",
       " \"N'a pas participé\",\n",
       " 'Non',\n",
       " 'Oui'}"
      ]
     },
     "execution_count": 102,
     "metadata": {},
     "output_type": "execute_result"
    }
   ],
   "source": [
    "set(df['Chevalley Isabelle'])"
   ]
  },
  {
   "cell_type": "code",
   "execution_count": 103,
   "metadata": {
    "collapsed": false
   },
   "outputs": [
    {
     "data": {
      "text/plain": [
       "{'Abstention', \"N'a pas participer\", \"N'a pas participé\", 'Non', 'Oui'}"
      ]
     },
     "execution_count": 103,
     "metadata": {},
     "output_type": "execute_result"
    }
   ],
   "source": [
    "set(df['Nicolet Jacques'])"
   ]
  },
  {
   "cell_type": "markdown",
   "metadata": {},
   "source": [
    "## AMARELLE-CHEVALLEY"
   ]
  },
  {
   "cell_type": "code",
   "execution_count": 104,
   "metadata": {
    "collapsed": false
   },
   "outputs": [],
   "source": [
    "Amarelle_Chevalley = 0\n",
    "\n",
    "absences_AC = 0\n",
    "    \n",
    "for index, vote in df.iterrows():\n",
    "    \n",
    "    if (vote['Amarelle Cesla'] == \"N'a pas participé\") or (vote['Chevalley Isabelle'] == \"N'a pas participé\") :\n",
    "        absences_AC += 1\n",
    "    if (vote['Amarelle Cesla'] == \"Excusé\") or (vote['Chevalley Isabelle'] == 'Excusé') :\n",
    "        absences_AC += 1    \n",
    "    \n",
    "    if (vote['Amarelle Cesla'] == \"Oui\") & (vote['Chevalley Isabelle'] == 'Oui') :\n",
    "        Amarelle_Chevalley += 1\n",
    "    if (vote['Amarelle Cesla'] == \"Non\") & (vote['Chevalley Isabelle'] == 'Non') :\n",
    "        Amarelle_Chevalley += 1\n",
    "    if (vote['Amarelle Cesla'] == \"Abstention\") & (vote['Chevalley Isabelle'] == 'Abstention') :\n",
    "        Amarelle_Chevalley += 1\n"
   ]
  },
  {
   "cell_type": "code",
   "execution_count": 105,
   "metadata": {
    "collapsed": false
   },
   "outputs": [
    {
     "data": {
      "text/plain": [
       "262"
      ]
     },
     "execution_count": 105,
     "metadata": {},
     "output_type": "execute_result"
    }
   ],
   "source": [
    "absences_AC\n",
    "#272"
   ]
  },
  {
   "cell_type": "code",
   "execution_count": 106,
   "metadata": {
    "collapsed": false
   },
   "outputs": [
    {
     "data": {
      "text/plain": [
       "952"
      ]
     },
     "execution_count": 106,
     "metadata": {},
     "output_type": "execute_result"
    }
   ],
   "source": [
    "Amarelle_Chevalley\n"
   ]
  },
  {
   "cell_type": "code",
   "execution_count": 107,
   "metadata": {
    "collapsed": false
   },
   "outputs": [
    {
     "data": {
      "text/plain": [
       "1657"
      ]
     },
     "execution_count": 107,
     "metadata": {},
     "output_type": "execute_result"
    }
   ],
   "source": [
    "len(df)\n",
    "#1657"
   ]
  },
  {
   "cell_type": "code",
   "execution_count": 108,
   "metadata": {
    "collapsed": false
   },
   "outputs": [
    {
     "data": {
      "text/plain": [
       "1395"
      ]
     },
     "execution_count": 108,
     "metadata": {},
     "output_type": "execute_result"
    }
   ],
   "source": [
    "len(df) - absences_AC"
   ]
  },
  {
   "cell_type": "code",
   "execution_count": 120,
   "metadata": {
    "collapsed": false
   },
   "outputs": [
    {
     "data": {
      "text/plain": [
       "0.6824372759856631"
      ]
     },
     "execution_count": 120,
     "metadata": {},
     "output_type": "execute_result"
    }
   ],
   "source": [
    "Amarelle_Chevalley / (len(df) - absences_AC)\n",
    "#0.69"
   ]
  },
  {
   "cell_type": "markdown",
   "metadata": {},
   "source": [
    "## AMARELLE - NICOLET"
   ]
  },
  {
   "cell_type": "code",
   "execution_count": 121,
   "metadata": {
    "collapsed": false
   },
   "outputs": [],
   "source": [
    "Amarelle_Nicolet = 0\n",
    "\n",
    "absences_AN = 0\n",
    "    \n",
    "for index, vote in df.iterrows():\n",
    "    \n",
    "    if (vote['Amarelle Cesla'] == \"N'a pas participé\") or (vote['Nicolet Jacques'] == \"N'a pas participé\") :\n",
    "        absences_AN += 1\n",
    "    if (vote['Amarelle Cesla'] == \"Excusé\") or (vote['Nicolet Jacques'] == 'Excusé') :\n",
    "        absences_AN += 1    \n",
    "    \n",
    "    if (vote['Amarelle Cesla'] == \"Oui\") & (vote['Nicolet Jacques'] == 'Oui') :\n",
    "        Amarelle_Nicolet += 1\n",
    "    if (vote['Amarelle Cesla'] == \"Non\") & (vote['Nicolet Jacques'] == 'Non') :\n",
    "        Amarelle_Nicolet += 1\n",
    "    if (vote['Amarelle Cesla'] == \"Abstention\") & (vote['Nicolet Jacques'] == 'Abstention') :\n",
    "        Amarelle_Nicolet += 1"
   ]
  },
  {
   "cell_type": "code",
   "execution_count": 122,
   "metadata": {
    "collapsed": false
   },
   "outputs": [
    {
     "data": {
      "text/plain": [
       "292"
      ]
     },
     "execution_count": 122,
     "metadata": {},
     "output_type": "execute_result"
    }
   ],
   "source": [
    "Amarelle_Nicolet\n",
    "#292"
   ]
  },
  {
   "cell_type": "code",
   "execution_count": 123,
   "metadata": {
    "collapsed": false
   },
   "outputs": [
    {
     "data": {
      "text/plain": [
       "1397"
      ]
     },
     "execution_count": 123,
     "metadata": {},
     "output_type": "execute_result"
    }
   ],
   "source": [
    "nombre_votes = len(df) - absences_AN\n",
    "nombre_votes\n",
    "#1382"
   ]
  },
  {
   "cell_type": "code",
   "execution_count": 124,
   "metadata": {
    "collapsed": false
   },
   "outputs": [
    {
     "name": "stdout",
     "output_type": "stream",
     "text": [
      "0.20901932712956334\n"
     ]
    }
   ],
   "source": [
    "print(Amarelle_Nicolet / (len(df) - absences_AN))\n",
    "#0.211"
   ]
  },
  {
   "cell_type": "code",
   "execution_count": 125,
   "metadata": {
    "collapsed": false
   },
   "outputs": [
    {
     "data": {
      "text/plain": [
       "0.20901932712956334"
      ]
     },
     "execution_count": 125,
     "metadata": {},
     "output_type": "execute_result"
    }
   ],
   "source": [
    "292 / 1397"
   ]
  },
  {
   "cell_type": "markdown",
   "metadata": {},
   "source": [
    "## CHEVALLEY-NICOLET"
   ]
  },
  {
   "cell_type": "code",
   "execution_count": 115,
   "metadata": {
    "collapsed": true
   },
   "outputs": [],
   "source": [
    "Chevalley_Nicolet = 0\n",
    "\n",
    "absences_CN = 0\n",
    "    \n",
    "for index, vote in df.iterrows():\n",
    "    \n",
    "    if (vote['Chevalley Isabelle'] == \"N'a pas participé\") or (vote['Nicolet Jacques'] == \"N'a pas participé\") :\n",
    "        absences_CN += 1\n",
    "    if (vote['Chevalley Isabelle'] == \"Excusé\") or (vote['Nicolet Jacques'] == 'Excusé') :\n",
    "        absences_CN += 1    \n",
    "    \n",
    "    if (vote['Chevalley Isabelle'] == \"Oui\") & (vote['Nicolet Jacques'] == 'Oui') :\n",
    "        Chevalley_Nicolet += 1\n",
    "    if (vote['Chevalley Isabelle'] == \"Non\") & (vote['Nicolet Jacques'] == 'Non') :\n",
    "        Chevalley_Nicolet += 1\n",
    "    if (vote['Chevalley Isabelle'] == \"Abstention\") & (vote['Nicolet Jacques'] == 'Abstention') :\n",
    "        Chevalley_Nicolet += 1"
   ]
  },
  {
   "cell_type": "code",
   "execution_count": 116,
   "metadata": {
    "collapsed": false
   },
   "outputs": [
    {
     "data": {
      "text/plain": [
       "641"
      ]
     },
     "execution_count": 116,
     "metadata": {},
     "output_type": "execute_result"
    }
   ],
   "source": [
    "Chevalley_Nicolet"
   ]
  },
  {
   "cell_type": "code",
   "execution_count": 117,
   "metadata": {
    "collapsed": false
   },
   "outputs": [
    {
     "data": {
      "text/plain": [
       "195"
      ]
     },
     "execution_count": 117,
     "metadata": {},
     "output_type": "execute_result"
    }
   ],
   "source": [
    "absences_CN"
   ]
  },
  {
   "cell_type": "code",
   "execution_count": 118,
   "metadata": {
    "collapsed": false
   },
   "outputs": [
    {
     "data": {
      "text/plain": [
       "1462"
      ]
     },
     "execution_count": 118,
     "metadata": {},
     "output_type": "execute_result"
    }
   ],
   "source": [
    "len(df) - 195"
   ]
  },
  {
   "cell_type": "code",
   "execution_count": 49,
   "metadata": {
    "collapsed": false
   },
   "outputs": [
    {
     "data": {
      "text/plain": [
       "0.4384404924760602"
      ]
     },
     "execution_count": 49,
     "metadata": {},
     "output_type": "execute_result"
    }
   ],
   "source": [
    "641 / 1462"
   ]
  }
 ],
 "metadata": {
  "kernelspec": {
   "display_name": "Python [Root]",
   "language": "python",
   "name": "Python [Root]"
  },
  "language_info": {
   "codemirror_mode": {
    "name": "ipython",
    "version": 3
   },
   "file_extension": ".py",
   "mimetype": "text/x-python",
   "name": "python",
   "nbconvert_exporter": "python",
   "pygments_lexer": "ipython3",
   "version": "3.5.2"
  }
 },
 "nbformat": 4,
 "nbformat_minor": 0
}
